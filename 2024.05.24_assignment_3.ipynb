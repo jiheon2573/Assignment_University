{
 "cells": [
  {
   "cell_type": "markdown",
   "id": "fc0c1f1a",
   "metadata": {},
   "source": [
    "#### 두 개의 자연수를 입력 받아서 나눗셈을 하는 Python code"
   ]
  },
  {
   "cell_type": "code",
   "execution_count": 2,
   "id": "a57588de",
   "metadata": {},
   "outputs": [
    {
     "name": "stdout",
     "output_type": "stream",
     "text": [
      "숫자 2개를 입력하세요.(예: 13 5): 15 5\n",
      "15.0 / 5.0 = 3.0\n",
      "calculation completed\n"
     ]
    }
   ],
   "source": [
    "try:\n",
    "    a, b = map(float, input(\"숫자 2개를 입력하세요.(예: 13 5): \").split())\n",
    "    try:\n",
    "        c = a / b\n",
    "    except:\n",
    "        print(\"입력한 숫자를 확인하세요.\")\n",
    "    else:\n",
    "        print(f\"{a} / {b} = {c}\")\n",
    "    finally:\n",
    "        print(\"calculation completed\")\n",
    "except:\n",
    "    print(\"숫자 2개를 입력하세요.(예: 13 5)\")"
   ]
  },
  {
   "cell_type": "markdown",
   "id": "0e786b7e",
   "metadata": {},
   "source": [
    "1. 2개의 숫자를 입력받지 못하면 \"숫자 2개를 입력하세요.(예: 13 5)\"가 출력된다.<br>\n",
    "2. 2개의 숫자를 입력받고 `b`가 0이라면 \"입력한 숫자를 확인하세요.\"가 출력되고 \"calculation completed\"가 출력된다.\n",
    "3. 2개의 숫자를 입력받고 `b`가 0이 아니라면 `f\"{a} / {b} = {c}\"`가 출력되고 \"calculation completed\"가 출력된다."
   ]
  },
  {
   "cell_type": "markdown",
   "id": "87af87ea",
   "metadata": {},
   "source": []
  }
 ],
 "metadata": {
  "kernelspec": {
   "display_name": "Python 3 (ipykernel)",
   "language": "python",
   "name": "python3"
  },
  "language_info": {
   "codemirror_mode": {
    "name": "ipython",
    "version": 3
   },
   "file_extension": ".py",
   "mimetype": "text/x-python",
   "name": "python",
   "nbconvert_exporter": "python",
   "pygments_lexer": "ipython3",
   "version": "3.11.7"
  }
 },
 "nbformat": 4,
 "nbformat_minor": 5
}
