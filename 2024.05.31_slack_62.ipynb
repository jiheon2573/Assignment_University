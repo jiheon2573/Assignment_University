{
 "cells": [
  {
   "cell_type": "markdown",
   "id": "06936f65",
   "metadata": {},
   "source": [
    "`all()` 함수는 iterable의 모든 요소가 참인지 확인한다. 모두 참이면 `True`를 반환하고, 하나라도 거짓이면 `False`를 반환한다."
   ]
  },
  {
   "cell_type": "code",
   "execution_count": 2,
   "id": "cc9793e7",
   "metadata": {},
   "outputs": [
    {
     "name": "stdout",
     "output_type": "stream",
     "text": [
      "True\n",
      "False\n",
      "True\n"
     ]
    }
   ],
   "source": [
    "print(all([True, True, True]))\n",
    "print(all([True, False, True]))\n",
    "print(all([]))"
   ]
  },
  {
   "cell_type": "markdown",
   "id": "f432c4f4",
   "metadata": {},
   "source": [
    "`any()` 함수는 iterable에 하나라도 참인 요소가 있으면 `True`를 반환한다. 모든 요소가 거짓이면 `False`를 반환한다."
   ]
  },
  {
   "cell_type": "code",
   "execution_count": 3,
   "id": "772bdf9e",
   "metadata": {},
   "outputs": [
    {
     "name": "stdout",
     "output_type": "stream",
     "text": [
      "True\n",
      "False\n",
      "False\n"
     ]
    }
   ],
   "source": [
    "print(any([False, False, True]))\n",
    "print(any([False, False, False]))\n",
    "print(any([]))"
   ]
  },
  {
   "cell_type": "markdown",
   "id": "e000d018",
   "metadata": {},
   "source": [
    "`enumerate()` 함수는 iterable의 요소와 인덱스를 함께 반환하는 enumerate 객체를 반환한다. 주로 루프에서 인덱스와 값을 함께 사용할 때 유용하다."
   ]
  },
  {
   "cell_type": "code",
   "execution_count": 20,
   "id": "c3a99715",
   "metadata": {},
   "outputs": [
    {
     "name": "stdout",
     "output_type": "stream",
     "text": [
      "[(0, 'Spring'), (1, 'Summer'), (2, 'Fall'), (3, 'Winter')]\n",
      "[(1, 'Spring'), (2, 'Summer'), (3, 'Fall'), (4, 'Winter')]\n",
      "[(0, 'Spring'), (1, 'Summer'), (2, 'Fall'), (3, 'Winter')]\n",
      "Spring\n",
      "Summer\n",
      "Fall\n",
      "Winter\n",
      "(0, 'Spring')\n",
      "(1, 'Summer')\n",
      "(2, 'Fall')\n",
      "(3, 'Winter')\n",
      "0 Spring\n",
      "1 Summer\n",
      "2 Fall\n",
      "3 Winter\n",
      "1 Spring\n",
      "2 Summer\n",
      "3 Fall\n",
      "4 Winter\n"
     ]
    }
   ],
   "source": [
    "seasons = ['Spring', 'Summer', 'Fall', 'Winter']\n",
    "\n",
    "print(list(enumerate(seasons)))\n",
    "print(list(enumerate(seasons, start=1)))\n",
    "print(list(enumerate(seasons)))\n",
    "\n",
    "for fruit in seasons:\n",
    "    print(fruit)\n",
    "for fruit in enumerate(seasons):\n",
    "    print(fruit)\n",
    "for index, fruit in enumerate(seasons):\n",
    "    print(index, fruit)\n",
    "for index, fruit in enumerate(seasons, start=1):\n",
    "    print(index, fruit)"
   ]
  },
  {
   "cell_type": "markdown",
   "id": "c1ae9a09",
   "metadata": {},
   "source": [
    "`iter()` 함수는 iterable에서 iterator 객체를 반환한다. `iter()`를 사용하여 iterator를 생성하고 `next()`를 사용하여 요소를 하나씩 가져올 수 있다.<br>\n",
    "`iter()` 함수는 `__iter__()` 메서드를 호출하여 iterator 객체를 반환한다. 반환된 iterator 객체는 `__next__()` 메서드를 통해 다음 요소를 가져올 수 있다."
   ]
  },
  {
   "cell_type": "code",
   "execution_count": 11,
   "id": "4ef0bc88",
   "metadata": {},
   "outputs": [
    {
     "name": "stdout",
     "output_type": "stream",
     "text": [
      "<list_iterator object at 0x00000250FA8BC220>\n",
      "apple\n",
      "banana\n",
      "cherry\n",
      "StopIteration\n"
     ]
    }
   ],
   "source": [
    "fruits = ['apple', 'banana', 'cherry']\n",
    "iterator = iter(fruits)\n",
    "print(iterator)\n",
    "print(next(iterator))\n",
    "print(next(iterator))\n",
    "print(next(iterator))\n",
    "\n",
    "try:\n",
    "    print(next(iterator))\n",
    "except:\n",
    "    print(\"StopIteration\")\n",
    "else:\n",
    "    print(next(iterator))\n"
   ]
  },
  {
   "cell_type": "markdown",
   "id": "46730e46",
   "metadata": {},
   "source": [
    "`zip()` 함수는 여러 iterable을 병렬로 묶어주는 iterator를 반환한다. 각 iterable의 동일한 인덱스에 있는 요소를 튜플로 묶어 반환한다."
   ]
  },
  {
   "cell_type": "code",
   "execution_count": 9,
   "id": "c9eb7122",
   "metadata": {},
   "outputs": [
    {
     "name": "stdout",
     "output_type": "stream",
     "text": [
      "[('Alice', 85), ('Bob', 90), ('Charlie', 95)]\n",
      "[(1, 'a', True), (2, 'b', False), (3, 'c', 'True')]\n"
     ]
    }
   ],
   "source": [
    "names = ['Alice', 'Bob', 'Charlie']\n",
    "scores = [85, 90, 95]\n",
    "zipped = zip(names, scores)\n",
    "\n",
    "print(list(zipped))\n",
    "\n",
    "a = [1, 2, 3]\n",
    "b = ['a', 'b', 'c']\n",
    "c = [True, False, \"True\"]\n",
    "zipped = zip(a, b, c)\n",
    "print(list(zipped))"
   ]
  }
 ],
 "metadata": {
  "kernelspec": {
   "display_name": "Python 3 (ipykernel)",
   "language": "python",
   "name": "python3"
  },
  "language_info": {
   "codemirror_mode": {
    "name": "ipython",
    "version": 3
   },
   "file_extension": ".py",
   "mimetype": "text/x-python",
   "name": "python",
   "nbconvert_exporter": "python",
   "pygments_lexer": "ipython3",
   "version": "3.12.2"
  }
 },
 "nbformat": 4,
 "nbformat_minor": 5
}
