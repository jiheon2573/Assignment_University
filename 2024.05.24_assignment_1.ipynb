{
 "cells": [
  {
   "cell_type": "markdown",
   "id": "7eaa6b74",
   "metadata": {},
   "source": [
    "#### 서로 다른 3개의 수를 더했을 때 소수가 되는 경우의 개수"
   ]
  },
  {
   "cell_type": "code",
   "execution_count": 5,
   "id": "72c1af13",
   "metadata": {},
   "outputs": [
    {
     "name": "stdout",
     "output_type": "stream",
     "text": [
      "nums: [100, 277, 227, 278, 92, 338, 423, 323, 606, 321, 470, 867]\n",
      "result: 37\n"
     ]
    }
   ],
   "source": [
    "import random\n",
    "from itertools import combinations\n",
    "\n",
    "def random_numbers():\n",
    "    nums = []\n",
    "    num = random.randint(3, 50)\n",
    "    while len(nums) < num:\n",
    "        number = random.randint(1, 1000)\n",
    "        if number not in nums:\n",
    "            nums.append(number)\n",
    "    return nums\n",
    "\n",
    "def is_prime(n):\n",
    "    d = 2\n",
    "    while True:\n",
    "        if n < 2:\n",
    "            return False\n",
    "        elif n == d:\n",
    "            return True\n",
    "        elif n % d == 0:\n",
    "            return False\n",
    "        elif n % d != 0:\n",
    "            d = d + 1\n",
    "\n",
    "def count(nums):\n",
    "    count = 0\n",
    "    for i in combinations(nums, 3):\n",
    "        if is_prime(sum(i)):\n",
    "            count += 1\n",
    "    return count\n",
    "\n",
    "nums = random_numbers()\n",
    "print(\"nums:\", nums)\n",
    "result = count(nums)\n",
    "print(\"result:\", result)\n"
   ]
  },
  {
   "cell_type": "markdown",
   "id": "d311383b",
   "metadata": {},
   "source": [
    "1. `num`에 3이상 50이하의 숫자를 저장한다.<br>\n",
    "2. `number`에 1이상 1000이하의 숫자를 저장한다.<br>\n",
    "3. 만약 `number`가 `nums` 리스트 안에 없으면 `nums` 리스트 안에 `number`를 추가한다.<br>\n",
    "4. `nums` 리스트 안에 있는 숫자가 `num`개가 될 때까지 2~3번을 반복한다.<br>\n",
    "5. `nums` 리스트를 출력한다.<br>\n",
    "6. `nums` 리스트 안에 있는 서로 다른 3개의 수를 더했을 때 소수가 되면 `count`의 값은 `count+1`의 값으로 변경된다.<br>\n",
    "7. 6번을 반복하고 변경된 `count`의 값을 출력한다."
   ]
  },
  {
   "cell_type": "markdown",
   "id": "bf68249b",
   "metadata": {},
   "source": []
  }
 ],
 "metadata": {
  "kernelspec": {
   "display_name": "Python 3 (ipykernel)",
   "language": "python",
   "name": "python3"
  },
  "language_info": {
   "codemirror_mode": {
    "name": "ipython",
    "version": 3
   },
   "file_extension": ".py",
   "mimetype": "text/x-python",
   "name": "python",
   "nbconvert_exporter": "python",
   "pygments_lexer": "ipython3",
   "version": "3.12.2"
  }
 },
 "nbformat": 4,
 "nbformat_minor": 5
}
