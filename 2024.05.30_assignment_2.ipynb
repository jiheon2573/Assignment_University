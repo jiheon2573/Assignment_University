{
 "cells": [
  {
   "cell_type": "markdown",
   "id": "eb3898d8",
   "metadata": {},
   "source": [
    "#### `n`의 소인수를 오름차순으로 담은 배열을 `return`하는 `solution(n)` 함수"
   ]
  },
  {
   "cell_type": "code",
   "execution_count": 34,
   "id": "bd2d5b30",
   "metadata": {},
   "outputs": [
    {
     "name": "stdout",
     "output_type": "stream",
     "text": [
      "660의 소인수는 [2, 3, 5, 11]입니다.\n"
     ]
    }
   ],
   "source": [
    "def solution(n):\n",
    "    d = 2\n",
    "    p = []\n",
    "    while n != 1:\n",
    "        if n % d == 0:\n",
    "            if d not in p:\n",
    "                p.append(d)\n",
    "            n //= d\n",
    "        else:\n",
    "            d += 1\n",
    "    return p\n",
    "\n",
    "n = int(input(\"자연수를 입력하세요: \"))\n",
    "print(f\"{n}의 소인수는 {solution(n)}입니다.\")"
   ]
  },
  {
   "cell_type": "markdown",
   "metadata": {},
   "source": [
    "1. `n`을 `d`로 나누었을 때 나머지가 0이고, `p` 리스트 안에 `d`가 없으면 `p` 리스트에 `d`를 추가한다. 그리고 `n`의 값은 `n`을 `d`로 나누었을 때 몫으로 변경된다.<br>\n",
    "2. `n`을 `d`로 나누었을 때 나머지가 0이고, `p` 리스트 안에 `d`가 있으면 `p` 리스트에 `d`를 추가하지 않는다. 그리고 `n`의 값은 `n`을 `d`로 나누었을 때 몫으로 변경된다.<br>\n",
    "3. `n`을 `d`로 나누었을 때 나머지가 0이 아니라면 `d`의 값은 `d+1`으로 변경된다.<br>\n",
    "4. 1~3번을 반복하다가 `n`이 1이 된다면 `p` 리스트를 `return` 한다."
   ]
  },
  {
   "cell_type": "markdown",
   "id": "1bdbaf6b",
   "metadata": {},
   "source": [
    "#### 1,000,000 이하의 circular prime(재배열 가능 소수,  또는 순열 소수) 개수 찾기"
   ]
  },
  {
   "cell_type": "code",
   "execution_count": 38,
   "id": "c006361d",
   "metadata": {},
   "outputs": [
    {
     "name": "stdout",
     "output_type": "stream",
     "text": [
      "22\n"
     ]
    }
   ],
   "source": [
    "from itertools import permutations\n",
    "\n",
    "l = []\n",
    "a, b = 2, 2\n",
    "while a < 10000:     #1000000까지 했을 때 결과가 안나와서 10000으로 바꿨습니다. 991 다음의 재배열 가능 소수는 1111111111111111111 이므로 결과는 같습니다.\n",
    "    if a == b:\n",
    "        l.append(a)\n",
    "        a += 1\n",
    "        b = 2\n",
    "    elif a % b == 0:\n",
    "        a += 1\n",
    "        b = 2\n",
    "    elif a % b != 0:\n",
    "        b += 1\n",
    "\n",
    "def circular_prime(n):\n",
    "    str_prime = str(n)\n",
    "    for p in permutations(str_prime):\n",
    "        perm = int(''.join(p))\n",
    "        if perm not in l:\n",
    "            return False\n",
    "    return True\n",
    "\n",
    "c = 0\n",
    "for i in l:\n",
    "    if circular_prime(i):\n",
    "        c += 1\n",
    "print(c)"
   ]
  },
  {
   "cell_type": "markdown",
   "id": "a1936c9f",
   "metadata": {},
   "source": [
    "1. `a`와 `b`가 같다면 `l` 리스트에 `a`를 추가한다. 그리고 `a`의 값은 `a+1`으로 변경되고, `b`의 값은 2로 변경된다.<br>\n",
    "2. `a`와 `b`가 다르고, `a`를 `b`로 나누었을 때 나머지가 0이라면 `a`의 값은 `a+1`으로 변경되고, `b`의 값은 2로 변경된다.<br>\n",
    "3. `a`와 `b`가 다르고, `a`를 `b`로 나누었을 때 나머지가 0이 아니라면 `b`의 값은 `b+1`으로 변경된다.<br>\n",
    "4. 1~3번을 `a`가 10,000 미만일 때까지 반복하면 `l` 리스트에 10,000 미만의 소수가 모두 들어간다.<br>\n",
    "5. `circular_prime(i)` 함수에 `l` 리스트 안에 있는 소수를 하나씩 넣고 `True`가 나온다면 `c`의 값은 `c+1`으로 변경된다.<br>\n",
    "6. 5번을 완료하고 변경된 `c`의 값을 `print`한다."
   ]
  },
  {
   "cell_type": "markdown",
   "id": "b35603ca",
   "metadata": {},
   "source": [
    "#### 자연수를 이진법으로 변환했을 때 1의 개수를 `return`하는 함수"
   ]
  },
  {
   "cell_type": "code",
   "execution_count": 37,
   "id": "0c76f642",
   "metadata": {},
   "outputs": [
    {
     "name": "stdout",
     "output_type": "stream",
     "text": [
      "n = 24, count(n) = 2\n"
     ]
    }
   ],
   "source": [
    "def count(n):\n",
    "    if 1 <= n <= 2147483647:\n",
    "        c = 0\n",
    "        while n != 0:\n",
    "            if n % 2 == 0:\n",
    "                n //= 2\n",
    "            else:\n",
    "                c += 1\n",
    "                n //= 2\n",
    "    else:\n",
    "        print(\"1 이상 2147483647 이하의 자연수를 입력해주세요.\")\n",
    "    return c\n",
    "\n",
    "n = int(input(\"자연수를 입력하세요: \"))\n",
    "print(f\"n = {n}, count(n) = {count(n)}\")"
   ]
  },
  {
   "cell_type": "markdown",
   "id": "51b29c1f",
   "metadata": {},
   "source": [
    "1. `n`이 1미만 또는 2147483647 초과라면 \"1 이상 2147483647 이하의 자연수를 입력해주세요.\"를 `print`한다.<br>\n",
    "2. `n`을 2로 나누었을 때 나머지가 0이라면 `n`의 값은 `n//2`로 변경된다.<br>\n",
    "3. `n`을 2로 나누었을 때 나머지가 0이 아니라면 `c`의 값은 `c+1`로 변경되고, `n`의 값은 `n//2`로 변경된다.<br>\n",
    "4. 2~3번을 반복하다가 `n`이 0이 된다면 변경된 `c`의 값을 `return`한다."
   ]
  }
 ],
 "metadata": {
  "kernelspec": {
   "display_name": "Python 3 (ipykernel)",
   "language": "python",
   "name": "python3"
  },
  "language_info": {
   "codemirror_mode": {
    "name": "ipython",
    "version": 3
   },
   "file_extension": ".py",
   "mimetype": "text/x-python",
   "name": "python",
   "nbconvert_exporter": "python",
   "pygments_lexer": "ipython3",
   "version": "3.12.2"
  }
 },
 "nbformat": 4,
 "nbformat_minor": 5
}
